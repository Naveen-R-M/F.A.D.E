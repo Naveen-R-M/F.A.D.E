{
 "cells": [
  {
   "cell_type": "code",
   "execution_count": 1,
   "id": "1f5c3e7c",
   "metadata": {},
   "outputs": [],
   "source": [
    "import os\n",
    "import sys\n",
    "\n",
    "root = os.path.abspath(os.path.join('..', '..'))\n",
    "test_dir = os.path.join(root, 'backend', 'docking', 'tests')"
   ]
  },
  {
   "cell_type": "code",
   "execution_count": null,
   "id": "60dbe819",
   "metadata": {},
   "outputs": [],
   "source": [
    "# We can use rdkit to generate small molecule conformers necessary\n",
    "# for Rosetta ligand docking:\n",
    "\n",
    "from rdkit import Chem\n",
    "from rdkit.Chem import AllChem\n",
    "from rdkit.Chem import rdMolAlign\n",
    "\n",
    "# Take example output from this directory:\n",
    "example_hits = '2gs6_picks.sdf'\n",
    "max_confs = 10\n",
    "\n",
    "supplier = Chem.SDMolSupplier(example_hits)\n",
    "\n",
    "# To align generated conformers to the input ligand's pose, we need to:\n",
    "# 1. Store the original coordinates.\n",
    "# 2. After generating conformers, align each conformer to the original pose.\n",
    "for i, mol in enumerate(supplier):\n",
    "    if mol is None:\n",
    "        continue\n",
    "\n",
    "    # Add hydrogens to the input hit ligand:\n",
    "    # (does this step shift the coordinates?)\n",
    "    mol = Chem.AddHs(mol, addCoords=True)\n",
    "    lig_name = f'2gs6_hit_{i+1}'\n",
    "\n",
    "    # Store original coordinates as a reference conformer\n",
    "    ref_conf_id = mol.id # I don't think this is specifying the original pose correctly.\n",
    "\n",
    "    # Generate conformers\n",
    "    conf_ids = AllChem.EmbedMultipleConfs(mol, numConfs=max_confs,\n",
    "                                          useExpTorsionAnglePrefs=True,\n",
    "                                          useBasicKnowledge=True)\n",
    "    \n",
    "    # Align each conformer to the original pose (doesn't seem to work):\n",
    "    for conf_id in conf_ids:\n",
    "        rdMolAlign.AlignMol(mol, mol, prbCid=conf_id, refCid=ref_conf_id)\n",
    "\n",
    "    mol_conf_file = os.path.join(test_dir, f'{lig_name}_conformers.sdf')\n",
    "    with Chem.SDWriter(mol_conf_file) as writer:\n",
    "        for conf_id in conf_ids:\n",
    "            writer.write(mol, confId=conf_id)\n"
   ]
  },
  {
   "cell_type": "code",
   "execution_count": null,
   "id": "5532ed72",
   "metadata": {},
   "outputs": [],
   "source": [
    "# Now we use Rosetta's molfile_to_params.py script to generate\n",
    "# a parameters file for each ligand in addition to a pdb file\n",
    "# for the hit ligand and another for each of its conformers.\n",
    "\n",
    "# Note, this will only work if running with an installed Rosetta version.\n",
    "\n",
    "import subprocess\n",
    "import glob\n",
    "\n",
    "conf_files = sorted(glob.glob(os.path.join(test_dir, '2gs6_hit_*_conformers.sdf')))\n",
    "\n",
    "script_path = os.path.join(test_dir, '..', 'molfile_to_params.py')\n",
    "script_path = os.path.abspath(script_path)\n",
    "\n",
    "for i, file in enumerate(conf_files):\n",
    "    lig_pdb_tag = f'NM{i+1}'\n",
    "    prefix = os.path.basename(os.path.splitext(file)[0])\n",
    "    cmd = [\n",
    "        sys.executable, script_path,\n",
    "        '-n', lig_pdb_tag,\n",
    "        '-p', prefix,\n",
    "        '--chain=X',\n",
    "        '--conformers-in-one-file', file\n",
    "    ]\n",
    "    subprocess.run(cmd, check=True, cwd=test_dir)"
   ]
  },
  {
   "cell_type": "code",
   "execution_count": 11,
   "id": "3e490b9b",
   "metadata": {},
   "outputs": [],
   "source": [
    "# Concatenate the prepared ligand pdb and its receptor:\n",
    "\n",
    "for i in range(1, 13):\n",
    "    rec_pdb_file = '2gs6_receptor.pdb'\n",
    "    lig_pdb_file = os.path.join(test_dir, f'2gs6_hit_{i}.pdb')\n",
    "    complex_pdb_file = os.path.join(test_dir, f'2gs6_hit_{i}_complex.pdb')\n",
    "\n",
    "    with open(rec_pdb_file, 'r') as f_rec, open(lig_pdb_file, 'r') as f_lig, open(complex_pdb_file, 'w') as f_out:\n",
    "        # Write receptor atoms first:\n",
    "        for line in f_rec:\n",
    "            if line.startswith('ATOM'):\n",
    "                f_out.write(line)\n",
    "        f_out.write('TER\\n')\n",
    "\n",
    "        # Write ligand atoms second:\n",
    "        for line in f_lig:\n",
    "            if line.startswith('HETATM'):\n",
    "                f_out.write(line)\n",
    "        f_out.write('END\\n')\n"
   ]
  },
  {
   "cell_type": "code",
   "execution_count": null,
   "id": "a877fac9",
   "metadata": {},
   "outputs": [],
   "source": []
  }
 ],
 "metadata": {
  "kernelspec": {
   "display_name": "rdkit9",
   "language": "python",
   "name": "python3"
  },
  "language_info": {
   "codemirror_mode": {
    "name": "ipython",
    "version": 3
   },
   "file_extension": ".py",
   "mimetype": "text/x-python",
   "name": "python",
   "nbconvert_exporter": "python",
   "pygments_lexer": "ipython3",
   "version": "3.13.7"
  }
 },
 "nbformat": 4,
 "nbformat_minor": 5
}
