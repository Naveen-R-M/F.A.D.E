{
 "cells": [
  {
   "cell_type": "code",
   "execution_count": 2,
   "id": "1f5c3e7c",
   "metadata": {},
   "outputs": [],
   "source": [
    "import os\n",
    "import sys\n",
    "\n",
    "root = os.path.abspath(os.path.join('..', '..'))\n",
    "test_dir = os.path.join(root, 'backend', 'docking', 'tests')"
   ]
  },
  {
   "cell_type": "code",
   "execution_count": 4,
   "id": "60dbe819",
   "metadata": {},
   "outputs": [],
   "source": [
    "# We can use rdkit to generate small molecule conformers necessary\n",
    "# for Rosetta ligand docking:\n",
    "\n",
    "from rdkit import Chem\n",
    "from rdkit.Chem import AllChem\n",
    "\n",
    "# Take example output from this directory:\n",
    "example_hits = '2gs6_picks.sdf'\n",
    "max_confs = 10\n",
    "\n",
    "supplier = Chem.SDMolSupplier(example_hits)\n",
    "\n",
    "for i, mol in enumerate(supplier):\n",
    "    if mol is None:\n",
    "        continue\n",
    "    \n",
    "    # Dump each hit ligand as a separate sdf (required for Rosetta's molfile_to_params.py script):\n",
    "    lig_name = f'2gs6_hit_{i+1}'\n",
    "    mol_hit_file = os.path.join(test_dir, f'{lig_name}.sdf')\n",
    "    Chem.MolToMolFile(mol, mol_hit_file)\n",
    "\n",
    "    # Rosetta requires all ligand conformers be in a single sdf file\n",
    "    # for params generation:\n",
    "    mol_conf_file = os.path.join(test_dir, f'{lig_name}_conformers.sdf')\n",
    "    conf_ids = AllChem.EmbedMultipleConfs(mol, numConfs=max_confs,\n",
    "                                          useExpTorsionAnglePrefs=True,\n",
    "                                          useBasicKnowledge=True)\n",
    "    with Chem.SDWriter(mol_conf_file) as writer:\n",
    "        for conf_id in conf_ids:\n",
    "            writer.write(mol, confId=conf_id)\n"
   ]
  }
 ],
 "metadata": {
  "kernelspec": {
   "display_name": "rdkit9",
   "language": "python",
   "name": "python3"
  },
  "language_info": {
   "codemirror_mode": {
    "name": "ipython",
    "version": 3
   },
   "file_extension": ".py",
   "mimetype": "text/x-python",
   "name": "python",
   "nbconvert_exporter": "python",
   "pygments_lexer": "ipython3",
   "version": "3.13.7"
  }
 },
 "nbformat": 4,
 "nbformat_minor": 5
}
